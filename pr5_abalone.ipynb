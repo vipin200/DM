{
 "nbformat": 4,
 "nbformat_minor": 2,
 "metadata": {
  "language_info": {
   "name": "python",
   "codemirror_mode": {
    "name": "ipython",
    "version": 3
   },
   "version": "3.7.4-final"
  },
  "orig_nbformat": 2,
  "file_extension": ".py",
  "mimetype": "text/x-python",
  "name": "python",
  "npconvert_exporter": "python",
  "pygments_lexer": "ipython3",
  "version": 3,
  "kernelspec": {
   "name": "python3",
   "display_name": "Python 3"
  }
 },
 "cells": [
  {
   "cell_type": "code",
   "execution_count": 103,
   "metadata": {},
   "outputs": [],
   "source": [
    "import pandas as pd\n",
    "import numpy as  np"
   ]
  },
  {
   "cell_type": "code",
   "execution_count": 104,
   "metadata": {},
   "outputs": [
    {
     "data": {
      "text/html": "<div>\n<style scoped>\n    .dataframe tbody tr th:only-of-type {\n        vertical-align: middle;\n    }\n\n    .dataframe tbody tr th {\n        vertical-align: top;\n    }\n\n    .dataframe thead th {\n        text-align: right;\n    }\n</style>\n<table border=\"1\" class=\"dataframe\">\n  <thead>\n    <tr style=\"text-align: right;\">\n      <th></th>\n      <th>Sex</th>\n      <th>Length</th>\n      <th>Diameter</th>\n      <th>Height</th>\n      <th>Whole weight</th>\n      <th>Shucked weight</th>\n      <th>Viscera weight</th>\n      <th>Shell weight</th>\n      <th>age</th>\n    </tr>\n  </thead>\n  <tbody>\n    <tr>\n      <td>0</td>\n      <td>M</td>\n      <td>0.455</td>\n      <td>0.365</td>\n      <td>0.095</td>\n      <td>0.5140</td>\n      <td>0.2245</td>\n      <td>0.1010</td>\n      <td>0.1500</td>\n      <td>16.5</td>\n    </tr>\n    <tr>\n      <td>1</td>\n      <td>M</td>\n      <td>0.350</td>\n      <td>0.265</td>\n      <td>0.090</td>\n      <td>0.2255</td>\n      <td>0.0995</td>\n      <td>0.0485</td>\n      <td>0.0700</td>\n      <td>8.5</td>\n    </tr>\n    <tr>\n      <td>2</td>\n      <td>F</td>\n      <td>0.530</td>\n      <td>0.420</td>\n      <td>0.135</td>\n      <td>0.6770</td>\n      <td>0.2565</td>\n      <td>0.1415</td>\n      <td>0.2100</td>\n      <td>10.5</td>\n    </tr>\n    <tr>\n      <td>3</td>\n      <td>M</td>\n      <td>0.440</td>\n      <td>0.365</td>\n      <td>0.125</td>\n      <td>0.5160</td>\n      <td>0.2155</td>\n      <td>0.1140</td>\n      <td>0.1550</td>\n      <td>11.5</td>\n    </tr>\n    <tr>\n      <td>4</td>\n      <td>I</td>\n      <td>0.330</td>\n      <td>0.255</td>\n      <td>0.080</td>\n      <td>0.2050</td>\n      <td>0.0895</td>\n      <td>0.0395</td>\n      <td>0.0550</td>\n      <td>8.5</td>\n    </tr>\n    <tr>\n      <td>...</td>\n      <td>...</td>\n      <td>...</td>\n      <td>...</td>\n      <td>...</td>\n      <td>...</td>\n      <td>...</td>\n      <td>...</td>\n      <td>...</td>\n      <td>...</td>\n    </tr>\n    <tr>\n      <td>4172</td>\n      <td>F</td>\n      <td>0.565</td>\n      <td>0.450</td>\n      <td>0.165</td>\n      <td>0.8870</td>\n      <td>0.3700</td>\n      <td>0.2390</td>\n      <td>0.2490</td>\n      <td>12.5</td>\n    </tr>\n    <tr>\n      <td>4173</td>\n      <td>M</td>\n      <td>0.590</td>\n      <td>0.440</td>\n      <td>0.135</td>\n      <td>0.9660</td>\n      <td>0.4390</td>\n      <td>0.2145</td>\n      <td>0.2605</td>\n      <td>11.5</td>\n    </tr>\n    <tr>\n      <td>4174</td>\n      <td>M</td>\n      <td>0.600</td>\n      <td>0.475</td>\n      <td>0.205</td>\n      <td>1.1760</td>\n      <td>0.5255</td>\n      <td>0.2875</td>\n      <td>0.3080</td>\n      <td>10.5</td>\n    </tr>\n    <tr>\n      <td>4175</td>\n      <td>F</td>\n      <td>0.625</td>\n      <td>0.485</td>\n      <td>0.150</td>\n      <td>1.0945</td>\n      <td>0.5310</td>\n      <td>0.2610</td>\n      <td>0.2960</td>\n      <td>11.5</td>\n    </tr>\n    <tr>\n      <td>4176</td>\n      <td>M</td>\n      <td>0.710</td>\n      <td>0.555</td>\n      <td>0.195</td>\n      <td>1.9485</td>\n      <td>0.9455</td>\n      <td>0.3765</td>\n      <td>0.4950</td>\n      <td>13.5</td>\n    </tr>\n  </tbody>\n</table>\n<p>4177 rows × 9 columns</p>\n</div>",
      "text/plain": "     Sex  Length  Diameter  Height  Whole weight  Shucked weight  \\\n0      M   0.455     0.365   0.095        0.5140          0.2245   \n1      M   0.350     0.265   0.090        0.2255          0.0995   \n2      F   0.530     0.420   0.135        0.6770          0.2565   \n3      M   0.440     0.365   0.125        0.5160          0.2155   \n4      I   0.330     0.255   0.080        0.2050          0.0895   \n...   ..     ...       ...     ...           ...             ...   \n4172   F   0.565     0.450   0.165        0.8870          0.3700   \n4173   M   0.590     0.440   0.135        0.9660          0.4390   \n4174   M   0.600     0.475   0.205        1.1760          0.5255   \n4175   F   0.625     0.485   0.150        1.0945          0.5310   \n4176   M   0.710     0.555   0.195        1.9485          0.9455   \n\n      Viscera weight  Shell weight   age  \n0             0.1010        0.1500  16.5  \n1             0.0485        0.0700   8.5  \n2             0.1415        0.2100  10.5  \n3             0.1140        0.1550  11.5  \n4             0.0395        0.0550   8.5  \n...              ...           ...   ...  \n4172          0.2390        0.2490  12.5  \n4173          0.2145        0.2605  11.5  \n4174          0.2875        0.3080  10.5  \n4175          0.2610        0.2960  11.5  \n4176          0.3765        0.4950  13.5  \n\n[4177 rows x 9 columns]"
     },
     "execution_count": 104,
     "metadata": {},
     "output_type": "execute_result"
    }
   ],
   "source": [
    "data = pd.read_csv('abalone.csv')\n",
    "data\n",
    "data['age'] = data['Rings']+1.5\n",
    "data.drop('Rings',axis=1,inplace=True)\n",
    "data\n"
   ]
  },
  {
   "cell_type": "code",
   "execution_count": 105,
   "metadata": {},
   "outputs": [],
   "source": [
    "X = data.drop('age', axis = 1)\n",
    "Y = data['age']\n",
    "X = X.replace(['M','F','I'],[0,1,2])\n",
    "X = np.array(X)\n",
    "Y = np.array(Y)\n",
    "from sklearn.preprocessing import  StandardScaler\n",
    "standardScale = StandardScaler()\n",
    "standardScale.fit_transform(X)\n",
    "X\n",
    "Y = np.ceil(Y)"
   ]
  },
  {
   "cell_type": "code",
   "execution_count": 106,
   "metadata": {},
   "outputs": [
    {
     "name": "stdout",
     "output_type": "stream",
     "text": "Naive Bayes Accuracy is:  22.48803827751196\n"
    }
   ],
   "source": [
    "from sklearn.model_selection import train_test_split\n",
    "X_train, X_test, Y_train, Y_test = train_test_split(X, Y, test_size=0.25, random_state=3)\n",
    "Y_train\n",
    "from sklearn.naive_bayes import GaussianNB\n",
    "gnb = GaussianNB()\n",
    "gnb.fit(X_train, Y_train)\n",
    "\n",
    "\n",
    "from sklearn import metrics\n",
    "Y_pred = gnb.predict(X_test)\n",
    "print(\"Naive Bayes Accuracy is: \", metrics.accuracy_score(Y_test , Y_pred) * 100)"
   ]
  },
  {
   "cell_type": "code",
   "execution_count": 107,
   "metadata": {},
   "outputs": [
    {
     "name": "stdout",
     "output_type": "stream",
     "text": "KNN Accuracy is:  22.105263157894736\n"
    }
   ],
   "source": [
    "from sklearn.neighbors import KNeighborsClassifier\n",
    "knc = KNeighborsClassifier(5)\n",
    "knc.fit(X_train, Y_train)\n",
    "Y_pred = knc.predict(X_test)\n",
    "knn_accuracy = (metrics.accuracy_score(Y_test, Y_pred) * 100)\n",
    "print(\"KNN Accuracy is: \", metrics.accuracy_score(Y_test , Y_pred) * 100)"
   ]
  },
  {
   "cell_type": "code",
   "execution_count": 108,
   "metadata": {},
   "outputs": [
    {
     "name": "stdout",
     "output_type": "stream",
     "text": "Decision tree Accuracy is:  18.564593301435405\n"
    }
   ],
   "source": [
    "from sklearn import tree\n",
    "dtc = tree.DecisionTreeClassifier()\n",
    "dtc.fit(X_train,Y_train)\n",
    "Y_pred = dtc.predict(X_test)\n",
    "print(\"Decision tree Accuracy is: \", metrics.accuracy_score(Y_test , Y_pred) * 100)"
   ]
  },
  {
   "cell_type": "code",
   "execution_count": 109,
   "metadata": {},
   "outputs": [
    {
     "name": "stderr",
     "output_type": "stream",
     "text": "C:\\Users\\vipof\\Anaconda3\\lib\\site-packages\\sklearn\\model_selection\\_split.py:657: Warning: The least populated class in y has only 1 members, which is too few. The minimum number of members in any class cannot be less than n_splits=3.\n  % (min_groups, self.n_splits)), Warning)\nC:\\Users\\vipof\\Anaconda3\\lib\\site-packages\\sklearn\\model_selection\\_split.py:657: Warning: The least populated class in y has only 1 members, which is too few. The minimum number of members in any class cannot be less than n_splits=3.\n  % (min_groups, self.n_splits)), Warning)\nNaive Bayes Score : 23.045895893552693\nKNN Score : 23.520394615579207\nTree Score : 19.584611229013714\nC:\\Users\\vipof\\Anaconda3\\lib\\site-packages\\sklearn\\model_selection\\_split.py:657: Warning: The least populated class in y has only 1 members, which is too few. The minimum number of members in any class cannot be less than n_splits=3.\n  % (min_groups, self.n_splits)), Warning)\n"
    }
   ],
   "source": [
    "def ClassifierCrossValid(X,Y):\n",
    "    from sklearn.model_selection import cross_validate,cross_val_score\n",
    "    gnb = GaussianNB()\n",
    "    knn = KNeighborsClassifier(n_neighbors=5)\n",
    "    dtc = tree.DecisionTreeClassifier()\n",
    "    bayesScore = cross_val_score(gnb, X, Y, cv=3)\n",
    "    knnScore = cross_val_score(knn, X, Y, cv=3)\n",
    "    d_treeScore = cross_val_score(dtc, X, Y, cv=3)\n",
    "    return bayesScore,knnScore,d_treeScore\n",
    "   \n",
    "Naive_Bayes_Score, KNN_Score, Tree_Score = ClassifierCrossValid(X,Y)\n",
    "print('Naive Bayes Score :',(Naive_Bayes_Score*100).mean())\n",
    "print('KNN Score :',(KNN_Score*100).mean())\n",
    "print('Tree Score :',(Tree_Score*100).mean())"
   ]
  }
 ]
}