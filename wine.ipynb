{
 "cells": [
  {
   "cell_type": "code",
   "execution_count": 1,
   "metadata": {},
   "outputs": [
    {
     "name": "stdout",
     "output_type": "stream",
     "text": [
      "     Wine  Alcohol  Malic.acid   Ash   Acl   Mg  Phenols  Flavanoids  \\\n",
      "0       1    14.23        1.71  2.43  15.6  127     2.80        3.06   \n",
      "1       1    13.20        1.78  2.14  11.2  100     2.65        2.76   \n",
      "2       1    13.16        2.36  2.67  18.6  101     2.80        3.24   \n",
      "3       1    14.37        1.95  2.50  16.8  113     3.85        3.49   \n",
      "4       1    13.24        2.59  2.87  21.0  118     2.80        2.69   \n",
      "..    ...      ...         ...   ...   ...  ...      ...         ...   \n",
      "173     3    13.71        5.65  2.45  20.5   95     1.68        0.61   \n",
      "174     3    13.40        3.91  2.48  23.0  102     1.80        0.75   \n",
      "175     3    13.27        4.28  2.26  20.0  120     1.59        0.69   \n",
      "176     3    13.17        2.59  2.37  20.0  120     1.65        0.68   \n",
      "177     3    14.13        4.10  2.74  24.5   96     2.05        0.76   \n",
      "\n",
      "     Nonflavanoid.phenols  Proanth  Color.int   Hue    OD  Proline  \n",
      "0                    0.28     2.29       5.64  1.04  3.92     1065  \n",
      "1                    0.26     1.28       4.38  1.05  3.40     1050  \n",
      "2                    0.30     2.81       5.68  1.03  3.17     1185  \n",
      "3                    0.24     2.18       7.80  0.86  3.45     1480  \n",
      "4                    0.39     1.82       4.32  1.04  2.93      735  \n",
      "..                    ...      ...        ...   ...   ...      ...  \n",
      "173                  0.52     1.06       7.70  0.64  1.74      740  \n",
      "174                  0.43     1.41       7.30  0.70  1.56      750  \n",
      "175                  0.43     1.35      10.20  0.59  1.56      835  \n",
      "176                  0.53     1.46       9.30  0.60  1.62      840  \n",
      "177                  0.56     1.35       9.20  0.61  1.60      560  \n",
      "\n",
      "[178 rows x 14 columns]\n"
     ]
    }
   ],
   "source": [
    "import pandas as pd\n",
    "\n",
    "data = pd.read_csv(\"wine.csv\")\n",
    "print(data)"
   ]
  },
  {
   "cell_type": "code",
   "execution_count": 3,
   "metadata": {},
   "outputs": [
    {
     "data": {
      "text/plain": [
       "Wine                      1.938202\n",
       "Alcohol                  13.000618\n",
       "Malic.acid                2.336348\n",
       "Ash                       2.366517\n",
       "Acl                      19.494944\n",
       "Mg                       99.741573\n",
       "Phenols                   2.295112\n",
       "Flavanoids                2.029270\n",
       "Nonflavanoid.phenols      0.361854\n",
       "Proanth                   1.590899\n",
       "Color.int                 5.058090\n",
       "Hue                       0.957449\n",
       "OD                        2.611685\n",
       "Proline                 746.893258\n",
       "dtype: float64"
      ]
     },
     "execution_count": 3,
     "metadata": {},
     "output_type": "execute_result"
    }
   ],
   "source": [
    "data.mean(axis = 0)"
   ]
  },
  {
   "cell_type": "code",
   "execution_count": 4,
   "metadata": {},
   "outputs": [
    {
     "data": {
      "text/plain": [
       "Wine                      0.775035\n",
       "Alcohol                   0.811827\n",
       "Malic.acid                1.117146\n",
       "Ash                       0.274344\n",
       "Acl                       3.339564\n",
       "Mg                       14.282484\n",
       "Phenols                   0.625851\n",
       "Flavanoids                0.998859\n",
       "Nonflavanoid.phenols      0.124453\n",
       "Proanth                   0.572359\n",
       "Color.int                 2.318286\n",
       "Hue                       0.228572\n",
       "OD                        0.709990\n",
       "Proline                 314.907474\n",
       "dtype: float64"
      ]
     },
     "execution_count": 4,
     "metadata": {},
     "output_type": "execute_result"
    }
   ],
   "source": [
    "data.std(axis=0)"
   ]
  },
  {
   "cell_type": "code",
   "execution_count": 8,
   "metadata": {},
   "outputs": [
    {
     "data": {
      "text/plain": [
       "Wine                    1.0\n",
       "Alcohol                 1.0\n",
       "Malic.acid              1.0\n",
       "Ash                     1.0\n",
       "Acl                     1.0\n",
       "Mg                      1.0\n",
       "Phenols                 1.0\n",
       "Flavanoids              1.0\n",
       "Nonflavanoid.phenols    1.0\n",
       "Proanth                 1.0\n",
       "Color.int               1.0\n",
       "Hue                     1.0\n",
       "OD                      1.0\n",
       "Proline                 1.0\n",
       "dtype: float64"
      ]
     },
     "execution_count": 8,
     "metadata": {},
     "output_type": "execute_result"
    }
   ],
   "source": [
    "data = data.apply(lambda x: (x-x.mean())/x.std() )\n",
    "data.mean(axis=0)\n",
    "data.std()\n"
   ]
  }
 ],
 "metadata": {
  "kernelspec": {
   "display_name": "Python 3",
   "language": "python",
   "name": "python3"
  },
  "language_info": {
   "codemirror_mode": {
    "name": "ipython",
    "version": 3
   },
   "file_extension": ".py",
   "mimetype": "text/x-python",
   "name": "python",
   "nbconvert_exporter": "python",
   "pygments_lexer": "ipython3",
   "version": "3.7.4"
  }
 },
 "nbformat": 4,
 "nbformat_minor": 2
}
