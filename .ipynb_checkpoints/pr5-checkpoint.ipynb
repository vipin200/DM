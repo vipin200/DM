{
 "cells": [
  {
   "cell_type": "code",
   "execution_count": 12,
   "metadata": {
    "pycharm": {
     "is_executing": false
    }
   },
   "outputs": [],
   "source": [
    "import pandas as pd\n",
    "import numpy as  np\n",
    "from sklearn import metrics\n",
    "from sklearn.model_selection import train_test_split\n",
    "from sklearn.datasets import load_breast_cancer\n",
    "from sklearn.naive_bayes import GaussianNB\n",
    "from sklearn.tree import DecisionTreeClassifier\n",
    "from sklearn.neighbors import KNeighborsClassifier\n",
    "from IPython.display import display,HTML"
   ]
  },
  {
   "cell_type": "code",
   "execution_count": 13,
   "metadata": {},
   "outputs": [],
   "source": [
    "data_br = load_breast_cancer()\n",
    "X_br = data_br.data\n",
    "Y_br = data_br.target\n",
    "\n",
    "data_ab = pd.read_csv('abalone.csv')\n",
    "X_ab = data_ab.iloc[:,:-1]\n",
    "X_ab = pd.get_dummies(X_ab)\n",
    "Y_ab = data_ab['Rings']\n",
    "X_ab = np.array(X_ab)\n",
    "Y_ab = np.array(Y_ab)"
   ]
  },
  {
   "cell_type": "code",
   "execution_count": 14,
   "metadata": {},
   "outputs": [],
   "source": [
    "def calc_acc(X,Y,classifier,tsize,iteration):\n",
    "    X_train, X_test, Y_train, Y_test = train_test_split(X, Y, test_size=tsize,  random_state=3)\n",
    "    accuracy = []\n",
    "    for i in range(iteration):\n",
    "        classifier.fit(X_train, Y_train)\n",
    "        Y_pred = classifier.predict(X_test)\n",
    "        accuracy.append(metrics.accuracy_score(Y_pred,Y_test)*100)\n",
    "    accuracy = np.array(accuracy)\n",
    "    accuracy = np.mean(accuracy)\n",
    "    return accuracy\n",
    "\n",
    "def calc_cross_val(X,Y,classifier,k):\n",
    "    from sklearn.model_selection import cross_validate,cross_val_score\n",
    "    score = cross_val_score(classifier, X, Y, cv=k)\n",
    "    acc = (score*100).mean()\n",
    "    return acc"
   ]
  },
  {
   "cell_type": "code",
   "execution_count": 15,
   "metadata": {
    "pycharm": {
     "is_executing": true
    }
   },
   "outputs": [
    {
     "name": "stderr",
     "output_type": "stream",
     "text": [
      "C:\\Users\\vipof\\Anaconda3\\lib\\site-packages\\sklearn\\model_selection\\_split.py:657: Warning: The least populated class in y has only 1 members, which is too few. The minimum number of members in any class cannot be less than n_splits=4.\n",
      "  % (min_groups, self.n_splits)), Warning)\n",
      "C:\\Users\\vipof\\Anaconda3\\lib\\site-packages\\sklearn\\model_selection\\_split.py:657: Warning: The least populated class in y has only 1 members, which is too few. The minimum number of members in any class cannot be less than n_splits=4.\n",
      "  % (min_groups, self.n_splits)), Warning)\n",
      "C:\\Users\\vipof\\Anaconda3\\lib\\site-packages\\sklearn\\model_selection\\_split.py:657: Warning: The least populated class in y has only 1 members, which is too few. The minimum number of members in any class cannot be less than n_splits=4.\n",
      "  % (min_groups, self.n_splits)), Warning)\n",
      "C:\\Users\\vipof\\Anaconda3\\lib\\site-packages\\sklearn\\model_selection\\_split.py:657: Warning: The least populated class in y has only 1 members, which is too few. The minimum number of members in any class cannot be less than n_splits=5.\n",
      "  % (min_groups, self.n_splits)), Warning)\n",
      "C:\\Users\\vipof\\Anaconda3\\lib\\site-packages\\sklearn\\model_selection\\_split.py:657: Warning: The least populated class in y has only 1 members, which is too few. The minimum number of members in any class cannot be less than n_splits=5.\n",
      "  % (min_groups, self.n_splits)), Warning)\n",
      "C:\\Users\\vipof\\Anaconda3\\lib\\site-packages\\sklearn\\model_selection\\_split.py:657: Warning: The least populated class in y has only 1 members, which is too few. The minimum number of members in any class cannot be less than n_splits=5.\n",
      "  % (min_groups, self.n_splits)), Warning)\n"
     ]
    }
   ],
   "source": [
    "classifiers = {'Naive_bayes':GaussianNB()  , 'KNN':KNeighborsClassifier(n_neighbors=5) , 'Decision_Tree':DecisionTreeClassifier()}\n",
    "test_size = {'test_size= 0.25': 0.25 , 'test_size=0.33': 0.33}\n",
    "data = {'Abalone':[X_ab,Y_ab] , 'Breast_Cancer':[X_br,Y_br]}\n",
    "folds={'folds=4':4,'folds=5':5}\n",
    "df = pd.DataFrame(np.empty((3,4)),columns=pd.MultiIndex.from_product([test_size.keys(),data.keys()]),index=classifiers.keys())       #HoldOut\n",
    "df10 = pd.DataFrame(np.empty((3,4)),columns=pd.MultiIndex.from_product([test_size.keys(),data.keys()]),index=classifiers.keys())    #RandomSubsampling\n",
    "dfcross = pd.DataFrame(np.empty((3,4)),columns=pd.MultiIndex.from_product([folds.keys(),data.keys()]),index=classifiers.keys())   #CrossValidation\n",
    "\n",
    "for t_key,t_value in test_size.items():\n",
    "    for d_key,d_value in data.items():\n",
    "        for c_key,c_value in classifiers.items():\n",
    "            df.loc[c_key,(t_key,d_key)]= calc_acc(d_value[0],d_value[1],c_value,t_value,1)\n",
    "            df10.loc[c_key,(t_key,d_key)]= calc_acc(d_value[0],d_value[1],c_value,t_value,10)\n",
    "            \n",
    "for f_key,f_value in folds.items():\n",
    "    for d_key,d_value in data.items():\n",
    "        for c_key,c_value in classifiers.items():\n",
    "            dfcross.loc[c_key,(f_key,d_key)]= calc_cross_val(d_value[0],d_value[1],c_value,f_value)"
   ]
  },
  {
   "cell_type": "code",
   "execution_count": 16,
   "metadata": {
    "pycharm": {
     "name": "#%%\n"
    }
   },
   "outputs": [
    {
     "data": {
      "text/html": [
       "<table border=\"1\" class=\"dataframe\">\n",
       "  <thead>\n",
       "    <tr>\n",
       "      <th></th>\n",
       "      <th colspan=\"2\" halign=\"left\">test_size= 0.25</th>\n",
       "      <th colspan=\"2\" halign=\"left\">test_size=0.33</th>\n",
       "    </tr>\n",
       "    <tr>\n",
       "      <th></th>\n",
       "      <th>Abalone</th>\n",
       "      <th>Breast_Cancer</th>\n",
       "      <th>Abalone</th>\n",
       "      <th>Breast_Cancer</th>\n",
       "    </tr>\n",
       "  </thead>\n",
       "  <tbody>\n",
       "    <tr>\n",
       "      <th>Naive_bayes</th>\n",
       "      <td>9.186603</td>\n",
       "      <td>93.706294</td>\n",
       "      <td>10.224801</td>\n",
       "      <td>95.744681</td>\n",
       "    </tr>\n",
       "    <tr>\n",
       "      <th>KNN</th>\n",
       "      <td>22.105263</td>\n",
       "      <td>91.608392</td>\n",
       "      <td>22.842640</td>\n",
       "      <td>93.085106</td>\n",
       "    </tr>\n",
       "    <tr>\n",
       "      <th>Decision_Tree</th>\n",
       "      <td>19.138756</td>\n",
       "      <td>93.006993</td>\n",
       "      <td>20.232052</td>\n",
       "      <td>94.680851</td>\n",
       "    </tr>\n",
       "  </tbody>\n",
       "</table>"
      ],
      "text/plain": [
       "<IPython.core.display.HTML object>"
      ]
     },
     "metadata": {},
     "output_type": "display_data"
    }
   ],
   "source": [
    "display(HTML(df.to_html()))"
   ]
  },
  {
   "cell_type": "code",
   "execution_count": 17,
   "metadata": {
    "pycharm": {
     "name": "#%%\n"
    }
   },
   "outputs": [
    {
     "data": {
      "text/html": [
       "<table border=\"1\" class=\"dataframe\">\n",
       "  <thead>\n",
       "    <tr>\n",
       "      <th></th>\n",
       "      <th colspan=\"2\" halign=\"left\">test_size= 0.25</th>\n",
       "      <th colspan=\"2\" halign=\"left\">test_size=0.33</th>\n",
       "    </tr>\n",
       "    <tr>\n",
       "      <th></th>\n",
       "      <th>Abalone</th>\n",
       "      <th>Breast_Cancer</th>\n",
       "      <th>Abalone</th>\n",
       "      <th>Breast_Cancer</th>\n",
       "    </tr>\n",
       "  </thead>\n",
       "  <tbody>\n",
       "    <tr>\n",
       "      <th>Naive_bayes</th>\n",
       "      <td>9.186603</td>\n",
       "      <td>93.706294</td>\n",
       "      <td>10.224801</td>\n",
       "      <td>95.744681</td>\n",
       "    </tr>\n",
       "    <tr>\n",
       "      <th>KNN</th>\n",
       "      <td>22.105263</td>\n",
       "      <td>91.608392</td>\n",
       "      <td>22.842640</td>\n",
       "      <td>93.085106</td>\n",
       "    </tr>\n",
       "    <tr>\n",
       "      <th>Decision_Tree</th>\n",
       "      <td>18.698565</td>\n",
       "      <td>93.076923</td>\n",
       "      <td>19.637418</td>\n",
       "      <td>95.159574</td>\n",
       "    </tr>\n",
       "  </tbody>\n",
       "</table>"
      ],
      "text/plain": [
       "<IPython.core.display.HTML object>"
      ]
     },
     "metadata": {},
     "output_type": "display_data"
    }
   ],
   "source": [
    "display(HTML(df10.to_html()))"
   ]
  },
  {
   "cell_type": "code",
   "execution_count": 18,
   "metadata": {
    "pycharm": {
     "name": "#%%\n"
    }
   },
   "outputs": [
    {
     "data": {
      "text/html": [
       "<div>\n",
       "<style scoped>\n",
       "    .dataframe tbody tr th:only-of-type {\n",
       "        vertical-align: middle;\n",
       "    }\n",
       "\n",
       "    .dataframe tbody tr th {\n",
       "        vertical-align: top;\n",
       "    }\n",
       "\n",
       "    .dataframe thead tr th {\n",
       "        text-align: left;\n",
       "    }\n",
       "</style>\n",
       "<table border=\"1\" class=\"dataframe\">\n",
       "  <thead>\n",
       "    <tr>\n",
       "      <th></th>\n",
       "      <th colspan=\"2\" halign=\"left\">folds=4</th>\n",
       "      <th colspan=\"2\" halign=\"left\">folds=5</th>\n",
       "    </tr>\n",
       "    <tr>\n",
       "      <th></th>\n",
       "      <th>Abalone</th>\n",
       "      <th>Breast_Cancer</th>\n",
       "      <th>Abalone</th>\n",
       "      <th>Breast_Cancer</th>\n",
       "    </tr>\n",
       "  </thead>\n",
       "  <tbody>\n",
       "    <tr>\n",
       "      <td>Naive_bayes</td>\n",
       "      <td>10.205745</td>\n",
       "      <td>94.204915</td>\n",
       "      <td>10.163534</td>\n",
       "      <td>94.037707</td>\n",
       "    </tr>\n",
       "    <tr>\n",
       "      <td>KNN</td>\n",
       "      <td>22.927522</td>\n",
       "      <td>92.798926</td>\n",
       "      <td>23.767825</td>\n",
       "      <td>92.804925</td>\n",
       "    </tr>\n",
       "    <tr>\n",
       "      <td>Decision_Tree</td>\n",
       "      <td>18.564217</td>\n",
       "      <td>92.448045</td>\n",
       "      <td>18.493781</td>\n",
       "      <td>91.916891</td>\n",
       "    </tr>\n",
       "  </tbody>\n",
       "</table>\n",
       "</div>"
      ],
      "text/plain": [
       "                 folds=4                  folds=5              \n",
       "                 Abalone Breast_Cancer    Abalone Breast_Cancer\n",
       "Naive_bayes    10.205745     94.204915  10.163534     94.037707\n",
       "KNN            22.927522     92.798926  23.767825     92.804925\n",
       "Decision_Tree  18.564217     92.448045  18.493781     91.916891"
      ]
     },
     "metadata": {},
     "output_type": "display_data"
    }
   ],
   "source": [
    "display(dfcross)"
   ]
  }
 ],
 "metadata": {
  "kernelspec": {
   "display_name": "Python 3",
   "language": "python",
   "name": "python3"
  },
  "language_info": {
   "codemirror_mode": {
    "name": "ipython",
    "version": 3
   },
   "file_extension": ".py",
   "mimetype": "text/x-python",
   "name": "python",
   "nbconvert_exporter": "python",
   "pygments_lexer": "ipython3",
   "version": "3.7.4"
  },
  "pycharm": {
   "stem_cell": {
    "cell_type": "raw",
    "metadata": {
     "collapsed": false
    },
    "source": []
   }
  }
 },
 "nbformat": 4,
 "nbformat_minor": 2
}
