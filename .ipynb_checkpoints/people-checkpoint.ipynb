{
 "cells": [
  {
   "cell_type": "code",
   "execution_count": 44,
   "metadata": {},
   "outputs": [
    {
     "name": "stdout",
     "output_type": "stream",
     "text": [
      "   age agegroup  height   status  yearsmarried\n",
      "0   21    adult     6.0   single            -1\n",
      "1    2    child     3.0  married             0\n",
      "2   18    adult     5.7  married            20\n",
      "3  221  elderly     5.0  widowed             2\n",
      "4   34    child    -7.0  married             3\n"
     ]
    }
   ],
   "source": [
    "import pandas as pd\n",
    "import numpy as np\n",
    "import matplotlib.pyplot as plt\n",
    "data = pd.read_csv(\"people.txt\" , delimiter=\",\")\n",
    "print(arr.head())\n"
   ]
  },
  {
   "cell_type": "code",
   "execution_count": 45,
   "metadata": {},
   "outputs": [],
   "source": [
    "#age in range 0 - 150\n",
    "def check_age(data):\n",
    "    return data['age'].isin(range(0,151))               "
   ]
  },
  {
   "cell_type": "code",
   "execution_count": 46,
   "metadata": {},
   "outputs": [],
   "source": [
    "# AGE > YEARS MARRIED\n",
    "def age_greater_years_married(data):\n",
    "    return data['age'] > data['yearsmarried']"
   ]
  },
  {
   "cell_type": "code",
   "execution_count": 47,
   "metadata": {},
   "outputs": [],
   "source": [
    "# check age and age group\n",
    "def ch_age_group(data):\n",
    "    ch = ((data['age'] < 18) & (data['agegroup'] == 'child') ) | ( (data['age'].isin(range(18,66))) & (data['agegroup'] == 'adult') ) | ( (data['age'] > 65) & (data['agegroup'] == 'elderly'))\n",
    "    return ch"
   ]
  },
  {
   "cell_type": "code",
   "execution_count": 48,
   "metadata": {},
   "outputs": [],
   "source": [
    "# check status\n",
    "def ch_status(data):\n",
    "     return data['status'].isin(['single', 'married', 'widowed'])"
   ]
  },
  {
   "cell_type": "code",
   "execution_count": 49,
   "metadata": {},
   "outputs": [
    {
     "name": "stdout",
     "output_type": "stream",
     "text": [
      "No. of times rule 0 is broken:  1\n",
      "No. of times rule 1 is broken:  1\n",
      "No. of times rule 2 is broken:  0\n",
      "No. of times rule 3 is broken:  1\n"
     ]
    }
   ],
   "source": [
    "ruleset = {0 : check_age, 1 : age_greater_years_married, 2 : ch_status, 3 : ch_age_group }\n",
    "ch_rule = np.empty(len(ruleset))\n",
    "\n",
    "\n",
    "for i in ruleset:\n",
    "    ch_rule[i] = len(ruleset[i](data)) - ruleset[i](data).value_counts().at[True]\n",
    "    print(f'No. of times rule {i} is broken: ', int(ch_rule[i]))\n",
    "    "
   ]
  },
  {
   "cell_type": "code",
   "execution_count": 50,
   "metadata": {},
   "outputs": [
    {
     "ename": "NameError",
     "evalue": "name 'ch_rules' is not defined",
     "output_type": "error",
     "traceback": [
      "\u001b[1;31m---------------------------------------------------------------------------\u001b[0m",
      "\u001b[1;31mNameError\u001b[0m                                 Traceback (most recent call last)",
      "\u001b[1;32m<ipython-input-50-c3e2855244db>\u001b[0m in \u001b[0;36m<module>\u001b[1;34m\u001b[0m\n\u001b[0;32m      1\u001b[0m \u001b[0mrule\u001b[0m \u001b[1;33m=\u001b[0m \u001b[0mnp\u001b[0m\u001b[1;33m.\u001b[0m\u001b[0marray\u001b[0m\u001b[1;33m(\u001b[0m\u001b[1;33m[\u001b[0m\u001b[1;34m'rule1'\u001b[0m\u001b[1;33m,\u001b[0m \u001b[1;34m'rule2'\u001b[0m\u001b[1;33m,\u001b[0m \u001b[1;34m'rule3'\u001b[0m\u001b[1;33m,\u001b[0m \u001b[1;34m'rule4'\u001b[0m\u001b[1;33m]\u001b[0m\u001b[1;33m)\u001b[0m\u001b[1;33m\u001b[0m\u001b[1;33m\u001b[0m\u001b[0m\n\u001b[1;32m----> 2\u001b[1;33m \u001b[0mplt\u001b[0m\u001b[1;33m.\u001b[0m\u001b[0mbar\u001b[0m\u001b[1;33m(\u001b[0m\u001b[0mrule\u001b[0m\u001b[1;33m,\u001b[0m \u001b[0mch_rules\u001b[0m\u001b[1;33m)\u001b[0m\u001b[1;33m\u001b[0m\u001b[1;33m\u001b[0m\u001b[0m\n\u001b[0m\u001b[0;32m      3\u001b[0m \u001b[0mplt\u001b[0m\u001b[1;33m.\u001b[0m\u001b[0mylabel\u001b[0m\u001b[1;33m(\u001b[0m\u001b[1;34m'No. of times rule broken'\u001b[0m\u001b[1;33m)\u001b[0m\u001b[1;33m\u001b[0m\u001b[1;33m\u001b[0m\u001b[0m\n\u001b[0;32m      4\u001b[0m \u001b[0mplt\u001b[0m\u001b[1;33m.\u001b[0m\u001b[0mshow\u001b[0m\u001b[1;33m(\u001b[0m\u001b[1;33m)\u001b[0m\u001b[1;33m\u001b[0m\u001b[1;33m\u001b[0m\u001b[0m\n",
      "\u001b[1;31mNameError\u001b[0m: name 'ch_rules' is not defined"
     ]
    }
   ],
   "source": [
    "rule = np.array(['rule1', 'rule2', 'rule3', 'rule4'])\n",
    "plt.bar(rule, ch_rule)\n",
    "plt.ylabel('No. of times rule broken')\n",
    "plt.show()"
   ]
  }
 ],
 "metadata": {
  "file_extension": ".py",
  "kernelspec": {
   "display_name": "Python 3",
   "language": "python",
   "name": "python3"
  },
  "language_info": {
   "codemirror_mode": {
    "name": "ipython",
    "version": 3
   },
   "file_extension": ".py",
   "mimetype": "text/x-python",
   "name": "python",
   "nbconvert_exporter": "python",
   "pygments_lexer": "ipython3",
   "version": "3.7.4"
  },
  "mimetype": "text/x-python",
  "name": "python",
  "npconvert_exporter": "python",
  "pygments_lexer": "ipython3",
  "version": 3
 },
 "nbformat": 4,
 "nbformat_minor": 2
}
