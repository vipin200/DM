{
 "cells": [
  {
   "cell_type": "code",
   "execution_count": 42,
   "metadata": {
    "pycharm": {
     "is_executing": true
    }
   },
   "outputs": [],
   "source": [
    "import pandas as pd\n",
    "import numpy as np\n",
    "import matplotlib.pyplot as plt\n",
    "data =  pd.read_csv(\"dirty_iris.csv\")\n"
   ]
  },
  {
   "cell_type": "code",
   "execution_count": 42,
   "metadata": {
    "pycharm": {
     "is_executing": true
    }
   },
   "outputs": [],
   "source": [
    "data = data.replace([np.inf,-np.inf] , np.nan )\n",
    "# print(data)\n",
    "# print_full(data)"
   ]
  },
  {
   "cell_type": "code",
   "execution_count": 43,
   "metadata": {
    "pycharm": {
     "is_executing": true
    }
   },
   "outputs": [
    {
     "name": "stdout",
     "output_type": "stream",
     "text": [
      "Percentage of observations that are complete: 63.33333333333333\n"
     ]
    }
   ],
   "source": [
    "complete = len(data.dropna())\n",
    "total = len(data)\n",
    "print(\"Percentage of observations that are complete: \",end=\"\")\n",
    "print(complete/total * 100)"
   ]
  },
  {
   "cell_type": "code",
   "execution_count": 26,
   "metadata": {
    "pycharm": {
     "is_executing": true
    }
   },
   "outputs": [
    {
     "name": "stdout",
     "output_type": "stream",
     "text": [
      "     Sepal.Length  Sepal.Width  Petal.Length  Petal.Width     Species\n",
      "0             6.4          3.2         4.500          1.5  versicolor\n",
      "1             6.3          3.3         6.000          2.5   virginica\n",
      "2             6.2          NaN         5.400          2.3   virginica\n",
      "3             5.0          3.4         1.600          0.4      setosa\n",
      "4             5.7          2.6         3.500          1.0  versicolor\n",
      "5             5.3          NaN           NaN          0.2      setosa\n",
      "6             6.4          2.7         5.300          NaN   virginica\n",
      "7             5.9          3.0         5.100          1.8   virginica\n",
      "8             5.8          2.7         4.100          1.0  versicolor\n",
      "9             4.8          3.1         1.600          0.2      setosa\n",
      "10            5.0          3.5         1.600          0.6      setosa\n",
      "11            6.0          2.7         5.100          1.6  versicolor\n",
      "12            6.0          3.0         4.800          NaN   virginica\n",
      "13            6.8          2.8         4.800          1.4  versicolor\n",
      "14            NaN          3.9         1.700          0.4      setosa\n",
      "15            5.0         -3.0         3.500          1.0  versicolor\n",
      "16            5.5          NaN         4.000          1.3  versicolor\n",
      "17            4.7          3.2         1.300          0.2      setosa\n",
      "18            NaN          4.0           NaN          0.2      setosa\n",
      "19            5.6          NaN         4.200          1.3  versicolor\n",
      "20            4.9          3.6           NaN          0.1      setosa\n",
      "21            5.4          NaN         4.500          1.5  versicolor\n",
      "22            6.2          2.8           NaN          1.8   virginica\n",
      "23            6.7          3.3         5.700          2.5   virginica\n",
      "24            NaN          3.0         5.900          2.1   virginica\n",
      "25            4.6          3.2         1.400          0.2      setosa\n",
      "26            4.9          3.1         1.500          0.1      setosa\n",
      "27           73.0         29.0        63.000          NaN   virginica\n",
      "28            6.5          3.2         5.100          2.0   virginica\n",
      "29            NaN          2.8         0.820          1.3  versicolor\n",
      "30            4.4          3.2           NaN          0.2      setosa\n",
      "31            5.9          3.2         4.800          NaN  versicolor\n",
      "32            5.7          2.8         4.500          1.3  versicolor\n",
      "33            6.2          2.9           NaN          1.3  versicolor\n",
      "34            6.6          2.9        23.000          1.3  versicolor\n",
      "35            4.8          3.0         1.400          0.1      setosa\n",
      "36            6.5          3.0         5.500          1.8   virginica\n",
      "37            6.2          2.2         4.500          1.5  versicolor\n",
      "38            6.7          2.5         5.800          1.8   virginica\n",
      "39            5.0          3.0         1.600          0.2      setosa\n",
      "40            5.0          NaN         1.200          0.2      setosa\n",
      "41            5.8          2.7         3.900          1.2  versicolor\n",
      "42            0.0          NaN         1.300          0.4      setosa\n",
      "43            5.8          2.7         5.100          1.9   virginica\n",
      "44            5.5          4.2         1.400          0.2      setosa\n",
      "45            7.7          2.8         6.700          2.0   virginica\n",
      "46            5.7          NaN           NaN          0.4      setosa\n",
      "47            7.0          3.2         4.700          1.4  versicolor\n",
      "48            6.5          3.0         5.800          2.2   virginica\n",
      "49            6.0          3.4         4.500          1.6  versicolor\n",
      "50            5.5          2.6         4.400          1.2  versicolor\n",
      "51            4.9          3.1           NaN          0.2      setosa\n",
      "52            5.2          2.7         3.900          1.4  versicolor\n",
      "53            4.8          3.4         1.600          0.2      setosa\n",
      "54            6.3          3.3         4.700          1.6  versicolor\n",
      "55            7.7          3.8         6.700          2.2   virginica\n",
      "56            5.1          3.8         1.500          0.3      setosa\n",
      "57            NaN          2.9         4.500          1.5  versicolor\n",
      "58            6.4          2.8         5.600          NaN   virginica\n",
      "59            6.4          2.8         5.600          2.1   virginica\n",
      "60            5.0          2.3         3.300          NaN  versicolor\n",
      "61            7.4          2.8         6.100          1.9   virginica\n",
      "62            4.3          3.0         1.100          0.1      setosa\n",
      "63            5.0          3.3         1.400          0.2      setosa\n",
      "64            7.2          3.0         5.800          1.6   virginica\n",
      "65            6.3          2.5         4.900          1.5  versicolor\n",
      "66            5.1          2.5           NaN          1.1  versicolor\n",
      "67            NaN          3.2         5.700          2.3   virginica\n",
      "68            5.1          3.5           NaN          NaN      setosa\n",
      "69            5.0          3.5         1.300          0.3      setosa\n",
      "70            6.1          3.0         4.600          1.4  versicolor\n",
      "71            6.9          3.1         5.100          2.3   virginica\n",
      "72            5.1          3.5         1.400          0.3      setosa\n",
      "73            6.5          NaN         4.600          1.5  versicolor\n",
      "74            5.6          2.8         4.900          2.0   virginica\n",
      "75            4.9          2.5         4.500          NaN   virginica\n",
      "76            5.5          3.5         1.300          0.2      setosa\n",
      "77            7.6          3.0         6.600          2.1   virginica\n",
      "78            5.1          3.8         0.000          0.2      setosa\n",
      "79            7.9          3.8         6.400          2.0   virginica\n",
      "80            6.1          2.6         5.600          1.4   virginica\n",
      "81            5.4          3.4         1.700          0.2      setosa\n",
      "82            6.1          2.9         4.700          1.4  versicolor\n",
      "83            5.4          3.7         1.500          0.2      setosa\n",
      "84            6.7          3.0         5.200          2.3   virginica\n",
      "85            5.1          3.8         1.900          inf      setosa\n",
      "86            6.4          2.9         4.300          1.3  versicolor\n",
      "87            5.7          2.9         4.200          1.3  versicolor\n",
      "88            4.4          2.9         1.400          0.2      setosa\n",
      "89            6.3          2.5         5.000          1.9   virginica\n",
      "90            7.2          3.2         6.000          1.8   virginica\n",
      "91            4.9          NaN         3.300          1.0  versicolor\n",
      "92            5.2          3.4         1.400          0.2      setosa\n",
      "93            5.8          2.7         5.100          1.9   virginica\n",
      "94            6.0          2.2         5.000          1.5   virginica\n",
      "95            6.9          3.1           NaN          1.5  versicolor\n",
      "96            5.5          2.3         4.000          1.3  versicolor\n",
      "97            6.7          NaN         5.000          1.7  versicolor\n",
      "98            5.7          3.0         4.200          1.2  versicolor\n",
      "99            6.3          2.8         5.100          1.5   virginica\n",
      "100           5.4          3.4         1.500          0.4      setosa\n",
      "101           7.2          3.6           NaN          2.5   virginica\n",
      "102           6.3          2.7         4.900          NaN   virginica\n",
      "103           5.6          3.0         4.100          1.3  versicolor\n",
      "104           5.1          3.7           NaN          0.4      setosa\n",
      "105           5.5          NaN         0.925          1.0  versicolor\n",
      "106           6.5          3.0         5.200          2.0   virginica\n",
      "107           4.8          3.0         1.400          NaN      setosa\n",
      "108           6.1          2.8           NaN          1.3  versicolor\n",
      "109           4.6          3.4         1.400          0.3      setosa\n",
      "110           6.3          3.4           NaN          2.4   virginica\n",
      "111           5.0          3.4         1.500          0.2      setosa\n",
      "112           5.1          3.4         1.500          0.2      setosa\n",
      "113           NaN          3.3         5.700          2.1   virginica\n",
      "114           6.7          3.1         4.700          1.5  versicolor\n",
      "115           7.7          2.6         6.900          2.3   virginica\n",
      "116           6.3          NaN         4.400          1.3  versicolor\n",
      "117           4.6          3.1         1.500          0.2      setosa\n",
      "118           NaN          3.0         5.500          2.1   virginica\n",
      "119           NaN          2.8         4.700          1.2  versicolor\n",
      "120           5.9          3.0           NaN          1.5  versicolor\n",
      "121           4.5          2.3         1.300          0.3      setosa\n",
      "122           6.4          3.2         5.300          2.3   virginica\n",
      "123           5.2          4.1         1.500          0.1      setosa\n",
      "124          49.0         30.0        14.000          2.0      setosa\n",
      "125           5.6          2.9         3.600          1.3  versicolor\n",
      "126           6.8          3.2         5.900          2.3   virginica\n",
      "127           5.8          NaN         5.100          2.4   virginica\n",
      "128           4.6          3.6           NaN          0.2      setosa\n",
      "129           5.7          0.0         1.700          0.3      setosa\n",
      "130           5.6          2.5         3.900          1.1  versicolor\n",
      "131           6.7          3.1         4.400          1.4  versicolor\n",
      "132           4.8          NaN         1.900          0.2      setosa\n",
      "133           5.1          3.3         1.700          0.5      setosa\n",
      "134           4.4          3.0         1.300          NaN      setosa\n",
      "135           7.7          3.0           NaN          2.3   virginica\n",
      "136           4.7          3.2         1.600          0.2      setosa\n",
      "137           NaN          3.0         4.900          1.8   virginica\n",
      "138           6.9          3.1         5.400          2.1   virginica\n",
      "139           6.0          2.2         4.000          1.0  versicolor\n",
      "140           5.0          NaN         1.400          0.2      setosa\n",
      "141           5.5          NaN         3.800          1.1  versicolor\n",
      "142           6.6          3.0         4.400          1.4  versicolor\n",
      "143           6.3          2.9         5.600          1.8   virginica\n",
      "144           5.7          2.5         5.000          2.0   virginica\n",
      "145           6.7          3.1         5.600          2.4   virginica\n",
      "146           5.6          3.0         4.500          1.5  versicolor\n",
      "147           5.2          3.5         1.500          0.2      setosa\n",
      "148           6.4          3.1           NaN          1.8   virginica\n",
      "149           5.8          2.6         4.000          NaN  versicolor\n"
     ]
    }
   ],
   "source": [
    "def print_full(x):\n",
    "    pd.set_option('display.max_rows', len(x))\n",
    "    print(x)\n",
    "    pd.reset_option('display.max_rows')\n",
    "    \n",
    "data1 = data._get_numeric_data()\n",
    "print_full(data)"
   ]
  },
  {
   "cell_type": "code",
   "execution_count": 45,
   "metadata": {},
   "outputs": [],
   "source": [
    "# data[data < 0] = np.nan\n",
    "# print_full(data)\n",
    "# data.describe()"
   ]
  },
  {
   "cell_type": "code",
   "execution_count": 46,
   "metadata": {},
   "outputs": [
    {
     "name": "stdout",
     "output_type": "stream",
     "text": [
      "AxesSubplot(0.125,0.125;0.775x0.755)\n"
     ]
    },
    {
     "data": {
      "image/png": "[encoded data removed]",
      "text/plain": [
       "<Figure size 432x288 with 1 Axes>"
      ]
     },
     "metadata": {
      "needs_background": "light"
     },
     "output_type": "display_data"
    }
   ],
   "source": [
    "x = data.plot()\n",
    "print(x)"
   ]
  },
  {
   "cell_type": "code",
   "execution_count": 41,
   "metadata": {},
   "outputs": [],
   "source": [
    "def check_species(df):\n",
    "    ch = data[\"Species\"].isin(['setosa' , 'versicolor' , 'virginica'])\n",
    "    return ch\n"
   ]
  },
  {
   "cell_type": "code",
   "execution_count": 40,
   "metadata": {},
   "outputs": [],
   "source": [
    "def check_positive(df):\n",
    "    ch = df.iloc[:,:4]>0\n",
    "    return ch\n",
    "\n",
    "\n",
    "# print(temp)"
   ]
  },
  {
   "cell_type": "code",
   "execution_count": 39,
   "metadata": {},
   "outputs": [],
   "source": [
    "def ch_petal_length_twice(df):\n",
    "    ch = df['Petal.Length'] >= (2 * df['Petal.Width'])\n",
    "    return ch\n",
    "# ch = ch_petal_length_twice(data)\n",
    "# print(ch)\n"
   ]
  },
  {
   "cell_type": "code",
   "execution_count": 37,
   "metadata": {},
   "outputs": [],
   "source": [
    "def ch_sepal_length_30(df):\n",
    "    ch = df['Sepal.Length'] <= 30\n",
    "    return ch\n",
    "# ch = ch_sepal_length_30(data)\n",
    "# print(ch)"
   ]
  },
  {
   "cell_type": "code",
   "execution_count": 38,
   "metadata": {},
   "outputs": [],
   "source": [
    "def  sepal_longer_petal(df):\n",
    "    ch = df['Sepal.Length'] > df['Petal.Length']\n",
    "    return ch\n",
    "# ch = sepal_longer_petal(data)\n",
    "# print(ch)"
   ]
  },
  {
   "cell_type": "code",
   "execution_count": 47,
   "metadata": {},
   "outputs": [
    {
     "ename": "SyntaxError",
     "evalue": "invalid syntax (<ipython-input-47-321532ea579e>, line 6)",
     "output_type": "error",
     "traceback": [
      "\u001b[1;36m  File \u001b[1;32m\"<ipython-input-47-321532ea579e>\"\u001b[1;36m, line \u001b[1;32m6\u001b[0m\n\u001b[1;33m    ch = eck_positive(data)\u001b[0m\n\u001b[1;37m     ^\u001b[0m\n\u001b[1;31mSyntaxError\u001b[0m\u001b[1;31m:\u001b[0m invalid syntax\n"
     ]
    }
   ],
   "source": [
    "rule_y = np.empty(5)\n",
    "rule11 = check_species(data)\n",
    "rule_y[0] =  len(rule11 - np.count_nonzero(rule11)\n",
    "ch = eck_positive(data)\n",
    "temp = [True] * len(ch)\n",
    "for i in range(4):\n",
    "    temp = temp & ch.iloc[:,i]\n",
    "rule_y[1] = len(temp) - np.count_nonzero(temp)\n",
    "\n",
    "\n",
    "rule33 = ch_petal_length_twice(data)\n",
    "rule_y[2] = len(rule33) - np.count_nonzero(rule33)\n",
    "\n",
    "rule44 = ch_sepal_length_30(data)\n",
    "rule_y[3] = len(rule44) - np.count_nonzero(rule44)\n",
    "\n",
    "\n",
    "rule55 = sepal_longer_petal(data)\n",
    "rule_y[4]= len(rule55) - np.count_nonzero(rule55)\n",
    "\n",
    "rule_x = np.array(['rule1',\"rule2\",'rule3','rule4','rule4','rule5'])\n",
    "\n",
    "plt.bar(rule_x,rule_y)\n",
    "plt.show()"
   ]
  }
 ],
 "metadata": {
  "kernelspec": {
   "display_name": "Python 3",
   "language": "python",
   "name": "python3"
  },
  "language_info": {
   "codemirror_mode": {
    "name": "ipython",
    "version": 3
   },
   "file_extension": ".py",
   "mimetype": "text/x-python",
   "name": "python",
   "nbconvert_exporter": "python",
   "pygments_lexer": "ipython3",
   "version": "3.7.4"
  },
  "pycharm": {
   "stem_cell": {
    "cell_type": "raw",
    "metadata": {
     "collapsed": false
    },
    "source": []
   }
  }
 },
 "nbformat": 4,
 "nbformat_minor": 2
}
