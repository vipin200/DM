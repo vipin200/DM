{
 "cells": [
  {
   "cell_type": "code",
   "execution_count": 22,
   "metadata": {},
   "outputs": [
    {
     "name": "stdout",
     "output_type": "stream",
     "text": [
      "   age agegroup  height   status  yearsmarried\n",
      "0   21    adult     6.0   single            -1\n",
      "1    2    child     3.0  married             0\n",
      "2   18    adult     5.7  married            20\n",
      "3  221  elderly     5.0  widowed             2\n",
      "4   34    child    -7.0  married             3\n"
     ]
    }
   ],
   "source": [
    "import pandas as pd\n",
    "import numpy as np\n",
    "\n",
    "arr = pd.read_csv(\"people.txt\" , delimiter=\",\")\n",
    "print(arr.head())\n"
   ]
  },
  {
   "cell_type": "code",
   "execution_count": 23,
   "metadata": {},
   "outputs": [
    {
     "name": "stdout",
     "output_type": "stream",
     "text": [
      "0     True\n",
      "1     True\n",
      "2     True\n",
      "3    False\n",
      "4     True\n",
      "Name: age, dtype: bool\n"
     ]
    }
   ],
   "source": [
    "#age in range 0 - 150\n",
    "brr = arr['age'].isin(range(0,151))               \n",
    "# brr = np.where(np.logical_and(arr['age'] <150, arr['age'] >0))\n",
    "print(brr)"
   ]
  },
  {
   "cell_type": "code",
   "execution_count": 24,
   "metadata": {},
   "outputs": [
    {
     "name": "stdout",
     "output_type": "stream",
     "text": [
      "0     True\n",
      "1     True\n",
      "2    False\n",
      "3     True\n",
      "4     True\n",
      "dtype: bool\n"
     ]
    }
   ],
   "source": [
    "# AGE > YEARS MARRIED\n",
    "crr = arr['age'] > arr['yearsmarried']\n",
    "print(crr)"
   ]
  },
  {
   "cell_type": "code",
   "execution_count": 25,
   "metadata": {},
   "outputs": [
    {
     "name": "stdout",
     "output_type": "stream",
     "text": [
      "   age agegroup  height   status  yearsmarried\n",
      "1    2    child     3.0  married             0\n",
      "\n",
      "1    True\n",
      "Name: agegroup, dtype: bool\n"
     ]
    }
   ],
   "source": [
    "# age and age group\n",
    "brr = arr[arr['age']<18]\n",
    "print(brr)\n",
    "drr = brr['agegroup']== 'child'\n",
    "print()\n",
    "print(drr)"
   ]
  },
  {
   "cell_type": "code",
   "execution_count": 26,
   "metadata": {},
   "outputs": [
    {
     "name": "stdout",
     "output_type": "stream",
     "text": [
      "   age agegroup  height   status  yearsmarried\n",
      "0   21    adult     6.0   single            -1\n",
      "2   18    adult     5.7  married            20\n",
      "4   34    child    -7.0  married             3\n",
      "\n",
      "0     True\n",
      "2     True\n",
      "4    False\n",
      "Name: agegroup, dtype: bool\n"
     ]
    }
   ],
   "source": [
    "brr = arr[arr['age'].isin(range(18,66))]\n",
    "print(brr)\n",
    "print()\n",
    "drr = brr['agegroup'] == 'adult'\n",
    "print(drr)"
   ]
  }
 ],
 "metadata": {
  "file_extension": ".py",
  "kernelspec": {
   "display_name": "Python 3",
   "language": "python",
   "name": "python3"
  },
  "language_info": {
   "codemirror_mode": {
    "name": "ipython",
    "version": 3
   },
   "file_extension": ".py",
   "mimetype": "text/x-python",
   "name": "python",
   "nbconvert_exporter": "python",
   "pygments_lexer": "ipython3",
   "version": "3.7.4"
  },
  "mimetype": "text/x-python",
  "name": "python",
  "npconvert_exporter": "python",
  "pygments_lexer": "ipython3",
  "version": 3
 },
 "nbformat": 4,
 "nbformat_minor": 2
}
