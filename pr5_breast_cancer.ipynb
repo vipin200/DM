{
 "cells": [
  {
   "cell_type": "code",
   "execution_count": 28,
   "metadata": {},
   "outputs": [],
   "source": [
    "import pandas as pd\n",
    "import numpy as  np\n",
    "from sklearn.datasets import load_breast_cancer"
   ]
  },
  {
   "cell_type": "code",
   "execution_count": 31,
   "metadata": {},
   "outputs": [
    {
     "name": "stdout",
     "output_type": "stream",
     "text": [
      "Naive Bayes Accuracy is:  93.7062937062937\n"
     ]
    }
   ],
   "source": [
    "dataset = load_breast_cancer()\n",
    "X = dataset.data\n",
    "Y = dataset.target\n",
    "\n",
    "def normalize(X):\n",
    "    X = (X - np.min(X)) / (np.max(X) - np.min(X))\n",
    "    return X\n",
    "\n",
    "for i in range(X.shape[1]):\n",
    "    X[:,i] = normalize(X[:,i])\n",
    "\n",
    "from sklearn.model_selection import train_test_split\n",
    "X_train, X_test, Y_train, Y_test = train_test_split(X, Y, test_size=0.25, random_state=3)\n",
    "\n",
    "from sklearn.naive_bayes import GaussianNB\n",
    "gnb = GaussianNB()\n",
    "gnb.fit(X_train, Y_train)\n",
    "\n",
    "\n",
    "from sklearn import metrics\n",
    "Y_pred = gnb.predict(X_test)\n",
    "print(\"Naive Bayes Accuracy is: \", metrics.accuracy_score(Y_test , Y_pred) * 100)"
   ]
  },
  {
   "cell_type": "code",
   "execution_count": 16,
   "metadata": {},
   "outputs": [
    {
     "name": "stdout",
     "output_type": "stream",
     "text": [
      "KNN Accuracy is:  95.1048951048951\n"
     ]
    }
   ],
   "source": [
    "from sklearn.neighbors import KNeighborsClassifier\n",
    "knc = KNeighborsClassifier(5)\n",
    "knc.fit(X_train, Y_train)\n",
    "Y_pred = knc.predict(X_test)\n",
    "knn_accuracy = (metrics.accuracy_score(Y_test, Y_pred) * 100)\n",
    "print(\"KNN Accuracy is: \", metrics.accuracy_score(Y_test , Y_pred) * 100)"
   ]
  },
  {
   "cell_type": "code",
   "execution_count": 17,
   "metadata": {},
   "outputs": [
    {
     "name": "stdout",
     "output_type": "stream",
     "text": [
      "Decision tree Accuracy is:  93.7062937062937\n"
     ]
    }
   ],
   "source": [
    "from sklearn import tree\n",
    "dtc = tree.DecisionTreeClassifier()\n",
    "dtc.fit(X_train,Y_train)\n",
    "Y_pred = dtc.predict(X_test)\n",
    "print(\"Decision tree Accuracy is: \", metrics.accuracy_score(Y_test , Y_pred) * 100)"
   ]
  },
  {
   "cell_type": "code",
   "execution_count": 27,
   "metadata": {},
   "outputs": [
    {
     "name": "stdout",
     "output_type": "stream",
     "text": [
      "Naive Bayes Score : 92.97498276371516\n",
      "Tree Score : 96.83714173150793\n",
      "KNN Score : 91.21688170983947\n"
     ]
    }
   ],
   "source": [
    "def ClassifierCrossValid(X,Y):\n",
    "    from sklearn.model_selection import cross_validate,cross_val_score\n",
    "    gnb = GaussianNB()\n",
    "    knn = KNeighborsClassifier(n_neighbors=3)\n",
    "    dtc = tree.DecisionTreeClassifier()\n",
    "    bayesScore = cross_val_score(gnb, X, Y, cv=4)\n",
    "    knnScore = cross_val_score(knn, X, Y, cv=4)\n",
    "    d_treeScore = cross_val_score(dtc, X, Y, cv=4)\n",
    "    return bayesScore,knnScore,d_treeScore\n",
    "    \n",
    "Naive_Bayes_Score, KNN_Score, Tree_Score = ClassifierCrossValid()\n",
    "print('Naive Bayes Score :',(Naive_Bayes_Score*100).mean())\n",
    "print('KNN Score :',(KNN_Score*100).mean())\n",
    "print('Tree Score :',(Tree_Score*100).mean())"
   ]
  }
 ],
 "metadata": {
  "kernelspec": {
   "display_name": "Python 3",
   "language": "python",
   "name": "python3"
  },
  "language_info": {
   "codemirror_mode": {
    "name": "ipython",
    "version": 3
   },
   "file_extension": ".py",
   "mimetype": "text/x-python",
   "name": "python",
   "nbconvert_exporter": "python",
   "pygments_lexer": "ipython3",
   "version": "3.7.4"
  }
 },
 "nbformat": 4,
 "nbformat_minor": 2
}
